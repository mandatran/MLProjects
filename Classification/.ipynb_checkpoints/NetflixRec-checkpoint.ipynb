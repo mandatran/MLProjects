{
 "cells": [
  {
   "cell_type": "markdown",
   "metadata": {},
   "source": [
    "# Netflix Recommendation System\n",
    "\n",
    "I will be implementing a content-based movie/tv show recommender, meaning that content will be recommended based on a movie that a user has watched by finding content similar to it.\n",
    "algorithms look beyond genre. They identify similar characters, familiar plot lines, or actors or directors that a user has shown an affinity for to recommend titles they’re likely to watch,"
   ]
  },
  {
   "cell_type": "markdown",
   "metadata": {},
   "source": [
    "## References: \n",
    "1. Article: [Netflix Finally Explains How its 'Because You Watched' Recommendation Tool Works](https://qz.com/1059434/netflix-finally-explains-how-its-because-you-watched-recommendation-tool-works/)\n",
    "2. [Recommendation Systems](https://medium.com/@pytholabs/recommendation-systems-from-scratch-in-python-pytholabs-6946491e76c2)"
   ]
  },
  {
   "cell_type": "code",
   "execution_count": null,
   "metadata": {},
   "outputs": [],
   "source": []
  },
  {
   "cell_type": "code",
   "execution_count": null,
   "metadata": {},
   "outputs": [],
   "source": []
  }
 ],
 "metadata": {
  "kernelspec": {
   "display_name": "Python 3",
   "language": "python",
   "name": "python3"
  },
  "language_info": {
   "codemirror_mode": {
    "name": "ipython",
    "version": 3
   },
   "file_extension": ".py",
   "mimetype": "text/x-python",
   "name": "python",
   "nbconvert_exporter": "python",
   "pygments_lexer": "ipython3",
   "version": "3.7.4"
  }
 },
 "nbformat": 4,
 "nbformat_minor": 2
}
